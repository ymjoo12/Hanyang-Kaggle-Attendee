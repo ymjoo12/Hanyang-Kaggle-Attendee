{
 "cells": [
  {
   "cell_type": "code",
   "execution_count": 1,
   "metadata": {},
   "outputs": [
    {
     "name": "stdout",
     "output_type": "stream",
     "text": [
      "tensor(2.2235, grad_fn=<MeanBackward0>)\n"
     ]
    }
   ],
   "source": [
    "import os.path as op\n",
    "import torch\n",
    "import sys\n",
    "import pandas as pd\n",
    "from sklearn.model_selection import train_test_split\n",
    "\n",
    "try: scriptpath = op.dirname(__file__)\n",
    "except NameError: scriptpath = './'\n",
    "\n",
    "class Model(torch.nn.Module):\n",
    "    def __init__(self):\n",
    "        super(Model, self).__init__()\n",
    "        self.linear = torch.nn.Linear(1,1)\n",
    "    \n",
    "    def forward(self, x):\n",
    "        y_pred = self.linear(x)\n",
    "        return y_pred\n",
    "\n",
    "class SubmittedApp:\n",
    "    def __init__(self):\n",
    "        savePath = op.join(scriptpath,\"modelsv3.pth\")\n",
    "        self.model = Model()\n",
    "        self.model.load_state_dict(torch.load(savePath))\n",
    "\n",
    "    def run(self, input_tensor: torch.Tensor) -> torch.Tensor:\n",
    "        output_tensor = self.model(input_tensor)\n",
    "        \"\"\"Main Run Method for scoring system\n",
    "        :param input_tensor: (torch.Tensor) [batchsize, height(1)]\n",
    "        :return: (torch.Tensor) [batchsize, weight(1)]\n",
    "        \"\"\"\n",
    "        return output_tensor\n",
    "\n",
    "    def metric(self, inferred_tensor: torch.Tensor, ground_truth: torch.Tensor) -> torch.Tensor:\n",
    "        \"\"\"Mean Square Error\n",
    "        l(y, y') = (y - y')^2        \n",
    "        :param inferred_tensor: (torch.Tensor) [batch_size, weight(1)], inferred value\n",
    "        :param ground_truth:  (torch.FloatTensor) [batch_size, weight(1)], ground truth value\n",
    "        :return: (torch.Tensor) metric 점수\n",
    "        \"\"\"\n",
    "        return torch.mean((inferred_tensor - ground_truth)**2)\n",
    "\n",
    "filename = op.join(scriptpath,\"weight-height.csv\")\n",
    "data = pd.read_csv(filename)\n",
    "x, y =  data['Height'], data['Weight']\n",
    "x_train, x_test, y_train, y_test = train_test_split(x, y, test_size=0.2, random_state=10)\n",
    "x_test = torch.Tensor([[x] for x in list(x_test)])\n",
    "y_test = torch.Tensor([[y] for y in list(y_test)])\n",
    "\n",
    "app = SubmittedApp()\n",
    "y_pred = app.run(x_test)\n",
    "print(app.metric(y_pred,y_test))"
   ]
  },
  {
   "cell_type": "code",
   "execution_count": null,
   "metadata": {},
   "outputs": [],
   "source": []
  }
 ],
 "metadata": {
  "kernelspec": {
   "display_name": "Python 3",
   "language": "python",
   "name": "python3"
  },
  "language_info": {
   "codemirror_mode": {
    "name": "ipython",
    "version": 3
   },
   "file_extension": ".py",
   "mimetype": "text/x-python",
   "name": "python",
   "nbconvert_exporter": "python",
   "pygments_lexer": "ipython3",
   "version": "3.8.3"
  }
 },
 "nbformat": 4,
 "nbformat_minor": 4
}
